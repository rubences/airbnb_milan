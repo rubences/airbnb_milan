{
  "cells": [
    {
      "cell_type": "markdown",
      "metadata": {},
      "source": [
        " 1.1 Cargar el archivo como un DataFrame"
      ]
    },
    {
      "cell_type": "code",
      "execution_count": 3,
      "metadata": {
        "id": "YfVmvIYFPVRe"
      },
      "outputs": [],
      "source": [
        "import pandas as pd\n",
        "\n",
        "df = pd.read_csv('Airbnb-Milan.csv')\n"
      ]
    },
    {
      "cell_type": "markdown",
      "metadata": {
        "id": "puH4l-v2Qkwa"
      },
      "source": [
        "1.1 Crear un nuevo DataFrame con las columnas específicas\n"
      ]
    },
    {
      "cell_type": "code",
      "execution_count": 18,
      "metadata": {
        "id": "_Uje7WkKQkQn"
      },
      "outputs": [
        {
          "name": "stdout",
          "output_type": "stream",
          "text": [
            "        Unnamed: 0            id       host_id  host_location  \\\n",
            "count  9005.000000  9.005000e+03  9.005000e+03    9005.000000   \n",
            "mean   4661.490616  1.931042e+07  6.777267e+07       0.960244   \n",
            "std    2691.875576  1.077793e+07  7.743693e+07       0.195396   \n",
            "min       1.000000  2.398600e+04  2.405400e+04       0.000000   \n",
            "25%    2332.000000  8.718356e+06  1.022457e+07       1.000000   \n",
            "50%    4650.000000  2.107205e+07  2.881247e+07       1.000000   \n",
            "75%    6994.000000  2.915264e+07  1.153041e+08       1.000000   \n",
            "max    9322.000000  3.646365e+07  2.726798e+08       1.000000   \n",
            "\n",
            "       host_response_time  host_response_rate  host_total_listings_count  \\\n",
            "count         9005.000000         9005.000000                9005.000000   \n",
            "mean             0.872404           53.273959                  20.407773   \n",
            "std              0.333658           10.314895                  85.866249   \n",
            "min              0.000000            1.000000                   0.000000   \n",
            "25%              1.000000           57.000000                   1.000000   \n",
            "50%              1.000000           57.000000                   2.000000   \n",
            "75%              1.000000           57.000000                   6.000000   \n",
            "max              1.000000           57.000000                 847.000000   \n",
            "\n",
            "       host_has_profile_pic  neighbourhood_cleansed       zipcode  ...  \\\n",
            "count           9005.000000             9005.000000   9005.000000  ...   \n",
            "mean               0.999556                4.498057  20136.405108  ...   \n",
            "std                0.021072                2.657045     12.435932  ...   \n",
            "min                0.000000                1.000000  20021.000000  ...   \n",
            "25%                1.000000                2.000000  20124.000000  ...   \n",
            "50%                1.000000                4.000000  20135.000000  ...   \n",
            "75%                1.000000                7.000000  20145.000000  ...   \n",
            "max                1.000000                9.000000  20162.000000  ...   \n",
            "\n",
            "              Iron  Host_greets_you  Paid_parking_on_premises  \\\n",
            "count  9005.000000      9005.000000               9005.000000   \n",
            "mean      0.812215         0.446974                  0.144919   \n",
            "std       0.390562         0.497208                  0.352039   \n",
            "min       0.000000         0.000000                  0.000000   \n",
            "25%       1.000000         0.000000                  0.000000   \n",
            "50%       1.000000         0.000000                  0.000000   \n",
            "75%       1.000000         1.000000                  0.000000   \n",
            "max       1.000000         1.000000                  1.000000   \n",
            "\n",
            "       Luggage_dropoff_allowed  Long_term_stays_allowed      Doorman  \\\n",
            "count              9005.000000              9005.000000  9005.000000   \n",
            "mean                  0.203776                 0.294503     0.158245   \n",
            "std                   0.402826                 0.455844     0.364991   \n",
            "min                   0.000000                 0.000000     0.000000   \n",
            "25%                   0.000000                 0.000000     0.000000   \n",
            "50%                   0.000000                 0.000000     0.000000   \n",
            "75%                   0.000000                 1.000000     0.000000   \n",
            "max                   1.000000                 1.000000     1.000000   \n",
            "\n",
            "       Pets_allowed  Smoking_allowed  Suitable_for_events  24_hour_check_in  \n",
            "count   9005.000000      9005.000000          9005.000000       9005.000000  \n",
            "mean       0.213104         0.107274             0.036757          0.079845  \n",
            "std        0.409523         0.309478             0.188176          0.271067  \n",
            "min        0.000000         0.000000             0.000000          0.000000  \n",
            "25%        0.000000         0.000000             0.000000          0.000000  \n",
            "50%        0.000000         0.000000             0.000000          0.000000  \n",
            "75%        0.000000         0.000000             0.000000          0.000000  \n",
            "max        1.000000         1.000000             1.000000          1.000000  \n",
            "\n",
            "[8 rows x 58 columns]\n"
          ]
        }
      ],
      "source": [
        "selected_columns = [\"host_is_superhost\", \"host_identity_verified\", \"bathrooms\", \"bedrooms\",\n",
        "                    \"daily_price\", \"minimum_nights\", \"number_of_reviews\",\n",
        "                    \"review_scores_rating\"]\n",
        "df_filtered = df[selected_columns]\n",
        "print(df.describe())\n"
      ]
    },
    {
      "cell_type": "markdown",
      "metadata": {
        "id": "dQdQ0_teP48W"
      },
      "source": [
        "1.2 Cambiar los factores de la variable \"host_is_superhost\""
      ]
    },
    {
      "cell_type": "code",
      "execution_count": 19,
      "metadata": {
        "colab": {
          "base_uri": "https://localhost:8080/"
        },
        "id": "P34QOucKP5rK",
        "outputId": "a7b2e05c-4ad9-4215-e9ec-93c0364a33a7"
      },
      "outputs": [
        {
          "name": "stdout",
          "output_type": "stream",
          "text": [
            "      Unnamed: 0        id    host_id  host_location  host_response_time  \\\n",
            "0              1     73892     387110              1                   1   \n",
            "1              2     74169     268127              1                   1   \n",
            "2              3     77958     387110              1                   1   \n",
            "3              4     93025     499743              1                   1   \n",
            "6              7    233795    1224206              1                   1   \n",
            "...          ...       ...        ...            ...                 ...   \n",
            "9317        9318  35954783   56584596              1                   1   \n",
            "9318        9319  36023503  271013325              1                   1   \n",
            "9319        9320  36071908  271354203              1                   0   \n",
            "9320        9321  36305676  171239896              1                   1   \n",
            "9321        9322  36463651  174590119              1                   1   \n",
            "\n",
            "      host_response_rate host_is_superhost  host_total_listings_count  \\\n",
            "0                     57                NO                          3   \n",
            "1                     57                NO                          1   \n",
            "2                     57                NO                          3   \n",
            "3                     57                NO                          1   \n",
            "6                     57                SI                          6   \n",
            "...                  ...               ...                        ...   \n",
            "9317                  57                NO                          1   \n",
            "9318                  57                NO                          1   \n",
            "9319                  57                NO                          1   \n",
            "9320                  40                NO                          3   \n",
            "9321                  57                NO                         14   \n",
            "\n",
            "      host_has_profile_pic host_identity_verified  ...  Iron  Host_greets_you  \\\n",
            "0                        1               VERIFICA  ...     1                0   \n",
            "1                        1            NO VERIFICA  ...     1                0   \n",
            "2                        1               VERIFICA  ...     1                0   \n",
            "3                        1            NO VERIFICA  ...     1                0   \n",
            "6                        1            NO VERIFICA  ...     1                0   \n",
            "...                    ...                    ...  ...   ...              ...   \n",
            "9317                     1               VERIFICA  ...     1                0   \n",
            "9318                     1            NO VERIFICA  ...     1                0   \n",
            "9319                     1            NO VERIFICA  ...     0                1   \n",
            "9320                     1            NO VERIFICA  ...     1                0   \n",
            "9321                     1            NO VERIFICA  ...     1                0   \n",
            "\n",
            "      Paid_parking_on_premises  Luggage_dropoff_allowed  \\\n",
            "0                            0                        0   \n",
            "1                            0                        0   \n",
            "2                            0                        0   \n",
            "3                            1                        1   \n",
            "6                            1                        1   \n",
            "...                        ...                      ...   \n",
            "9317                         0                        0   \n",
            "9318                         0                        0   \n",
            "9319                         0                        0   \n",
            "9320                         0                        0   \n",
            "9321                         0                        0   \n",
            "\n",
            "     Long_term_stays_allowed  Doorman  Pets_allowed  Smoking_allowed  \\\n",
            "0                          0        0             0                0   \n",
            "1                          0        0             0                0   \n",
            "2                          0        0             0                0   \n",
            "3                          0        0             1                0   \n",
            "6                          1        1             0                0   \n",
            "...                      ...      ...           ...              ...   \n",
            "9317                       0        0             0                0   \n",
            "9318                       0        0             1                0   \n",
            "9319                       0        0             0                0   \n",
            "9320                       0        0             0                0   \n",
            "9321                       0        0             1                0   \n",
            "\n",
            "      Suitable_for_events  24_hour_check_in  \n",
            "0                       1                 0  \n",
            "1                       0                 0  \n",
            "2                       1                 0  \n",
            "3                       0                 0  \n",
            "6                       0                 1  \n",
            "...                   ...               ...  \n",
            "9317                    0                 0  \n",
            "9318                    0                 0  \n",
            "9319                    0                 0  \n",
            "9320                    0                 0  \n",
            "9321                    0                 0  \n",
            "\n",
            "[9005 rows x 61 columns]\n",
            "        Unnamed: 0            id       host_id  host_location  \\\n",
            "count  9005.000000  9.005000e+03  9.005000e+03    9005.000000   \n",
            "mean   4661.490616  1.931042e+07  6.777267e+07       0.960244   \n",
            "std    2691.875576  1.077793e+07  7.743693e+07       0.195396   \n",
            "min       1.000000  2.398600e+04  2.405400e+04       0.000000   \n",
            "25%    2332.000000  8.718356e+06  1.022457e+07       1.000000   \n",
            "50%    4650.000000  2.107205e+07  2.881247e+07       1.000000   \n",
            "75%    6994.000000  2.915264e+07  1.153041e+08       1.000000   \n",
            "max    9322.000000  3.646365e+07  2.726798e+08       1.000000   \n",
            "\n",
            "       host_response_time  host_response_rate  host_total_listings_count  \\\n",
            "count         9005.000000         9005.000000                9005.000000   \n",
            "mean             0.872404           53.273959                  20.407773   \n",
            "std              0.333658           10.314895                  85.866249   \n",
            "min              0.000000            1.000000                   0.000000   \n",
            "25%              1.000000           57.000000                   1.000000   \n",
            "50%              1.000000           57.000000                   2.000000   \n",
            "75%              1.000000           57.000000                   6.000000   \n",
            "max              1.000000           57.000000                 847.000000   \n",
            "\n",
            "       host_has_profile_pic  neighbourhood_cleansed       zipcode  ...  \\\n",
            "count           9005.000000             9005.000000   9005.000000  ...   \n",
            "mean               0.999556                4.498057  20136.405108  ...   \n",
            "std                0.021072                2.657045     12.435932  ...   \n",
            "min                0.000000                1.000000  20021.000000  ...   \n",
            "25%                1.000000                2.000000  20124.000000  ...   \n",
            "50%                1.000000                4.000000  20135.000000  ...   \n",
            "75%                1.000000                7.000000  20145.000000  ...   \n",
            "max                1.000000                9.000000  20162.000000  ...   \n",
            "\n",
            "              Iron  Host_greets_you  Paid_parking_on_premises  \\\n",
            "count  9005.000000      9005.000000               9005.000000   \n",
            "mean      0.812215         0.446974                  0.144919   \n",
            "std       0.390562         0.497208                  0.352039   \n",
            "min       0.000000         0.000000                  0.000000   \n",
            "25%       1.000000         0.000000                  0.000000   \n",
            "50%       1.000000         0.000000                  0.000000   \n",
            "75%       1.000000         1.000000                  0.000000   \n",
            "max       1.000000         1.000000                  1.000000   \n",
            "\n",
            "       Luggage_dropoff_allowed  Long_term_stays_allowed      Doorman  \\\n",
            "count              9005.000000              9005.000000  9005.000000   \n",
            "mean                  0.203776                 0.294503     0.158245   \n",
            "std                   0.402826                 0.455844     0.364991   \n",
            "min                   0.000000                 0.000000     0.000000   \n",
            "25%                   0.000000                 0.000000     0.000000   \n",
            "50%                   0.000000                 0.000000     0.000000   \n",
            "75%                   0.000000                 1.000000     0.000000   \n",
            "max                   1.000000                 1.000000     1.000000   \n",
            "\n",
            "       Pets_allowed  Smoking_allowed  Suitable_for_events  24_hour_check_in  \n",
            "count   9005.000000      9005.000000          9005.000000       9005.000000  \n",
            "mean       0.213104         0.107274             0.036757          0.079845  \n",
            "std        0.409523         0.309478             0.188176          0.271067  \n",
            "min        0.000000         0.000000             0.000000          0.000000  \n",
            "25%        0.000000         0.000000             0.000000          0.000000  \n",
            "50%        0.000000         0.000000             0.000000          0.000000  \n",
            "75%        0.000000         0.000000             0.000000          0.000000  \n",
            "max        1.000000         1.000000             1.000000          1.000000  \n",
            "\n",
            "[8 rows x 58 columns]\n"
          ]
        }
      ],
      "source": [
        "df['host_is_superhost'].replace({0: 'NO', 1: 'SI'}, inplace=True)\n",
        "print(df)\n",
        "print(df.describe())\n"
      ]
    },
    {
      "cell_type": "markdown",
      "metadata": {
        "id": "c1u134tlP9dC"
      },
      "source": [
        "1.3 Cambiar los factores de la variable \"host_identity_verified\"\n",
        "\n",
        "\n",
        "\n",
        "\n"
      ]
    },
    {
      "cell_type": "code",
      "execution_count": 20,
      "metadata": {
        "colab": {
          "base_uri": "https://localhost:8080/"
        },
        "id": "OalxTgt5QAtN",
        "outputId": "39436f41-298e-4fa5-bdf7-58f29a85b119"
      },
      "outputs": [
        {
          "name": "stdout",
          "output_type": "stream",
          "text": [
            "      Unnamed: 0        id    host_id  host_location  host_response_time  \\\n",
            "0              1     73892     387110              1                   1   \n",
            "1              2     74169     268127              1                   1   \n",
            "2              3     77958     387110              1                   1   \n",
            "3              4     93025     499743              1                   1   \n",
            "6              7    233795    1224206              1                   1   \n",
            "...          ...       ...        ...            ...                 ...   \n",
            "9317        9318  35954783   56584596              1                   1   \n",
            "9318        9319  36023503  271013325              1                   1   \n",
            "9319        9320  36071908  271354203              1                   0   \n",
            "9320        9321  36305676  171239896              1                   1   \n",
            "9321        9322  36463651  174590119              1                   1   \n",
            "\n",
            "      host_response_rate host_is_superhost  host_total_listings_count  \\\n",
            "0                     57                NO                          3   \n",
            "1                     57                NO                          1   \n",
            "2                     57                NO                          3   \n",
            "3                     57                NO                          1   \n",
            "6                     57                SI                          6   \n",
            "...                  ...               ...                        ...   \n",
            "9317                  57                NO                          1   \n",
            "9318                  57                NO                          1   \n",
            "9319                  57                NO                          1   \n",
            "9320                  40                NO                          3   \n",
            "9321                  57                NO                         14   \n",
            "\n",
            "      host_has_profile_pic host_identity_verified  ...  Iron  Host_greets_you  \\\n",
            "0                        1               VERIFICA  ...     1                0   \n",
            "1                        1            NO VERIFICA  ...     1                0   \n",
            "2                        1               VERIFICA  ...     1                0   \n",
            "3                        1            NO VERIFICA  ...     1                0   \n",
            "6                        1            NO VERIFICA  ...     1                0   \n",
            "...                    ...                    ...  ...   ...              ...   \n",
            "9317                     1               VERIFICA  ...     1                0   \n",
            "9318                     1            NO VERIFICA  ...     1                0   \n",
            "9319                     1            NO VERIFICA  ...     0                1   \n",
            "9320                     1            NO VERIFICA  ...     1                0   \n",
            "9321                     1            NO VERIFICA  ...     1                0   \n",
            "\n",
            "      Paid_parking_on_premises  Luggage_dropoff_allowed  \\\n",
            "0                            0                        0   \n",
            "1                            0                        0   \n",
            "2                            0                        0   \n",
            "3                            1                        1   \n",
            "6                            1                        1   \n",
            "...                        ...                      ...   \n",
            "9317                         0                        0   \n",
            "9318                         0                        0   \n",
            "9319                         0                        0   \n",
            "9320                         0                        0   \n",
            "9321                         0                        0   \n",
            "\n",
            "     Long_term_stays_allowed  Doorman  Pets_allowed  Smoking_allowed  \\\n",
            "0                          0        0             0                0   \n",
            "1                          0        0             0                0   \n",
            "2                          0        0             0                0   \n",
            "3                          0        0             1                0   \n",
            "6                          1        1             0                0   \n",
            "...                      ...      ...           ...              ...   \n",
            "9317                       0        0             0                0   \n",
            "9318                       0        0             1                0   \n",
            "9319                       0        0             0                0   \n",
            "9320                       0        0             0                0   \n",
            "9321                       0        0             1                0   \n",
            "\n",
            "      Suitable_for_events  24_hour_check_in  \n",
            "0                       1                 0  \n",
            "1                       0                 0  \n",
            "2                       1                 0  \n",
            "3                       0                 0  \n",
            "6                       0                 1  \n",
            "...                   ...               ...  \n",
            "9317                    0                 0  \n",
            "9318                    0                 0  \n",
            "9319                    0                 0  \n",
            "9320                    0                 0  \n",
            "9321                    0                 0  \n",
            "\n",
            "[9005 rows x 61 columns]\n",
            "        Unnamed: 0            id       host_id  host_location  \\\n",
            "count  9005.000000  9.005000e+03  9.005000e+03    9005.000000   \n",
            "mean   4661.490616  1.931042e+07  6.777267e+07       0.960244   \n",
            "std    2691.875576  1.077793e+07  7.743693e+07       0.195396   \n",
            "min       1.000000  2.398600e+04  2.405400e+04       0.000000   \n",
            "25%    2332.000000  8.718356e+06  1.022457e+07       1.000000   \n",
            "50%    4650.000000  2.107205e+07  2.881247e+07       1.000000   \n",
            "75%    6994.000000  2.915264e+07  1.153041e+08       1.000000   \n",
            "max    9322.000000  3.646365e+07  2.726798e+08       1.000000   \n",
            "\n",
            "       host_response_time  host_response_rate  host_total_listings_count  \\\n",
            "count         9005.000000         9005.000000                9005.000000   \n",
            "mean             0.872404           53.273959                  20.407773   \n",
            "std              0.333658           10.314895                  85.866249   \n",
            "min              0.000000            1.000000                   0.000000   \n",
            "25%              1.000000           57.000000                   1.000000   \n",
            "50%              1.000000           57.000000                   2.000000   \n",
            "75%              1.000000           57.000000                   6.000000   \n",
            "max              1.000000           57.000000                 847.000000   \n",
            "\n",
            "       host_has_profile_pic  neighbourhood_cleansed       zipcode  ...  \\\n",
            "count           9005.000000             9005.000000   9005.000000  ...   \n",
            "mean               0.999556                4.498057  20136.405108  ...   \n",
            "std                0.021072                2.657045     12.435932  ...   \n",
            "min                0.000000                1.000000  20021.000000  ...   \n",
            "25%                1.000000                2.000000  20124.000000  ...   \n",
            "50%                1.000000                4.000000  20135.000000  ...   \n",
            "75%                1.000000                7.000000  20145.000000  ...   \n",
            "max                1.000000                9.000000  20162.000000  ...   \n",
            "\n",
            "              Iron  Host_greets_you  Paid_parking_on_premises  \\\n",
            "count  9005.000000      9005.000000               9005.000000   \n",
            "mean      0.812215         0.446974                  0.144919   \n",
            "std       0.390562         0.497208                  0.352039   \n",
            "min       0.000000         0.000000                  0.000000   \n",
            "25%       1.000000         0.000000                  0.000000   \n",
            "50%       1.000000         0.000000                  0.000000   \n",
            "75%       1.000000         1.000000                  0.000000   \n",
            "max       1.000000         1.000000                  1.000000   \n",
            "\n",
            "       Luggage_dropoff_allowed  Long_term_stays_allowed      Doorman  \\\n",
            "count              9005.000000              9005.000000  9005.000000   \n",
            "mean                  0.203776                 0.294503     0.158245   \n",
            "std                   0.402826                 0.455844     0.364991   \n",
            "min                   0.000000                 0.000000     0.000000   \n",
            "25%                   0.000000                 0.000000     0.000000   \n",
            "50%                   0.000000                 0.000000     0.000000   \n",
            "75%                   0.000000                 1.000000     0.000000   \n",
            "max                   1.000000                 1.000000     1.000000   \n",
            "\n",
            "       Pets_allowed  Smoking_allowed  Suitable_for_events  24_hour_check_in  \n",
            "count   9005.000000      9005.000000          9005.000000       9005.000000  \n",
            "mean       0.213104         0.107274             0.036757          0.079845  \n",
            "std        0.409523         0.309478             0.188176          0.271067  \n",
            "min        0.000000         0.000000             0.000000          0.000000  \n",
            "25%        0.000000         0.000000             0.000000          0.000000  \n",
            "50%        0.000000         0.000000             0.000000          0.000000  \n",
            "75%        0.000000         0.000000             0.000000          0.000000  \n",
            "max        1.000000         1.000000             1.000000          1.000000  \n",
            "\n",
            "[8 rows x 58 columns]\n"
          ]
        }
      ],
      "source": [
        "df['host_identity_verified'] = df['host_identity_verified'].replace({0: \"NO VERIFICA\", 1: \"VERIFICA\"})\n",
        "print(df)\n",
        "print(df.describe())\n"
      ]
    },
    {
      "cell_type": "markdown",
      "metadata": {
        "id": "rIelhhlIS3gS"
      },
      "source": [
        " 1.4 Mostrar un resumen estadístico de los datos\n"
      ]
    },
    {
      "cell_type": "code",
      "execution_count": 7,
      "metadata": {
        "colab": {
          "base_uri": "https://localhost:8080/"
        },
        "id": "d8uVm9vgS6Yv",
        "outputId": "c238a55d-ac86-4c75-b18b-4edb942bfc31"
      },
      "outputs": [
        {
          "name": "stdout",
          "output_type": "stream",
          "text": [
            "       host_is_superhost  host_identity_verified    bathrooms     bedrooms  \\\n",
            "count        9322.000000             9322.000000  9322.000000  9322.000000   \n",
            "mean            0.288887                0.431238     3.356790     1.218086   \n",
            "std             0.453269                0.495276     0.979969     0.731942   \n",
            "min             0.000000                0.000000     1.000000     0.000000   \n",
            "25%             0.000000                0.000000     3.000000     1.000000   \n",
            "50%             0.000000                0.000000     3.000000     1.000000   \n",
            "75%             1.000000                1.000000     3.000000     2.000000   \n",
            "max             1.000000                1.000000    17.000000    10.000000   \n",
            "\n",
            "       daily_price  minimum_nights  number_of_reviews  review_scores_rating  \n",
            "count  9322.000000     9322.000000        9322.000000           9322.000000  \n",
            "mean    103.735143        3.205321          39.640742             93.147930  \n",
            "std     137.956457       13.749608          65.597271              8.337679  \n",
            "min      10.000000        1.000000           1.000000             20.000000  \n",
            "25%      59.000000        1.000000           4.000000             90.000000  \n",
            "50%      75.000000        2.000000          14.000000             95.000000  \n",
            "75%     107.000000        2.000000          44.000000             99.000000  \n",
            "max    3000.000000      365.000000         791.000000            100.000000  \n"
          ]
        }
      ],
      "source": [
        "summary_stats = df_filtered.describe()\n",
        "print(summary_stats)\n"
      ]
    },
    {
      "cell_type": "markdown",
      "metadata": {
        "id": "N_0GP-bOTKR2"
      },
      "source": [
        "1.5  Filtrar el dataset por mínimo de noches igual o menor que siete\n"
      ]
    },
    {
      "cell_type": "code",
      "execution_count": 8,
      "metadata": {
        "colab": {
          "base_uri": "https://localhost:8080/"
        },
        "id": "lRi2wBR3TSP_",
        "outputId": "6713a294-3021-4b94-9d0d-952a6b8ef739"
      },
      "outputs": [
        {
          "name": "stdout",
          "output_type": "stream",
          "text": [
            "      Unnamed: 0        id    host_id  host_location  host_response_time  \\\n",
            "0              1     73892     387110              1                   1   \n",
            "1              2     74169     268127              1                   1   \n",
            "2              3     77958     387110              1                   1   \n",
            "3              4     93025     499743              1                   1   \n",
            "6              7    233795    1224206              1                   1   \n",
            "...          ...       ...        ...            ...                 ...   \n",
            "9317        9318  35954783   56584596              1                   1   \n",
            "9318        9319  36023503  271013325              1                   1   \n",
            "9319        9320  36071908  271354203              1                   0   \n",
            "9320        9321  36305676  171239896              1                   1   \n",
            "9321        9322  36463651  174590119              1                   1   \n",
            "\n",
            "      host_response_rate host_is_superhost  host_total_listings_count  \\\n",
            "0                     57                NO                          3   \n",
            "1                     57                NO                          1   \n",
            "2                     57                NO                          3   \n",
            "3                     57                NO                          1   \n",
            "6                     57                SI                          6   \n",
            "...                  ...               ...                        ...   \n",
            "9317                  57                NO                          1   \n",
            "9318                  57                NO                          1   \n",
            "9319                  57                NO                          1   \n",
            "9320                  40                NO                          3   \n",
            "9321                  57                NO                         14   \n",
            "\n",
            "      host_has_profile_pic host_identity_verified  ...  Iron  Host_greets_you  \\\n",
            "0                        1               VERIFICA  ...     1                0   \n",
            "1                        1            NO VERIFICA  ...     1                0   \n",
            "2                        1               VERIFICA  ...     1                0   \n",
            "3                        1            NO VERIFICA  ...     1                0   \n",
            "6                        1            NO VERIFICA  ...     1                0   \n",
            "...                    ...                    ...  ...   ...              ...   \n",
            "9317                     1               VERIFICA  ...     1                0   \n",
            "9318                     1            NO VERIFICA  ...     1                0   \n",
            "9319                     1            NO VERIFICA  ...     0                1   \n",
            "9320                     1            NO VERIFICA  ...     1                0   \n",
            "9321                     1            NO VERIFICA  ...     1                0   \n",
            "\n",
            "      Paid_parking_on_premises  Luggage_dropoff_allowed  \\\n",
            "0                            0                        0   \n",
            "1                            0                        0   \n",
            "2                            0                        0   \n",
            "3                            1                        1   \n",
            "6                            1                        1   \n",
            "...                        ...                      ...   \n",
            "9317                         0                        0   \n",
            "9318                         0                        0   \n",
            "9319                         0                        0   \n",
            "9320                         0                        0   \n",
            "9321                         0                        0   \n",
            "\n",
            "     Long_term_stays_allowed  Doorman  Pets_allowed  Smoking_allowed  \\\n",
            "0                          0        0             0                0   \n",
            "1                          0        0             0                0   \n",
            "2                          0        0             0                0   \n",
            "3                          0        0             1                0   \n",
            "6                          1        1             0                0   \n",
            "...                      ...      ...           ...              ...   \n",
            "9317                       0        0             0                0   \n",
            "9318                       0        0             1                0   \n",
            "9319                       0        0             0                0   \n",
            "9320                       0        0             0                0   \n",
            "9321                       0        0             1                0   \n",
            "\n",
            "      Suitable_for_events  24_hour_check_in  \n",
            "0                       1                 0  \n",
            "1                       0                 0  \n",
            "2                       1                 0  \n",
            "3                       0                 0  \n",
            "6                       0                 1  \n",
            "...                   ...               ...  \n",
            "9317                    0                 0  \n",
            "9318                    0                 0  \n",
            "9319                    0                 0  \n",
            "9320                    0                 0  \n",
            "9321                    0                 0  \n",
            "\n",
            "[9005 rows x 61 columns]\n"
          ]
        }
      ],
      "source": [
        "df = df[df['minimum_nights'] <= 7]\n",
        "print(df)"
      ]
    },
    {
      "cell_type": "markdown",
      "metadata": {
        "id": "hxolO7U9UMug"
      },
      "source": [
        "1.6 Calcular el precio promedio por día en función de la verificación del perfil\n"
      ]
    },
    {
      "cell_type": "code",
      "execution_count": 9,
      "metadata": {
        "colab": {
          "base_uri": "https://localhost:8080/"
        },
        "id": "lsAA8lppVLSQ",
        "outputId": "5566b80c-6f2a-4756-839b-f3c315d290f4"
      },
      "outputs": [
        {
          "name": "stdout",
          "output_type": "stream",
          "text": [
            "host_identity_verified\n",
            "NO VERIFICA    103.751725\n",
            "VERIFICA       103.897598\n",
            "Name: daily_price, dtype: float64\n"
          ]
        }
      ],
      "source": [
        "average_price_by_verification = df.groupby('host_identity_verified')['daily_price'].mean()\n",
        "print(average_price_by_verification)\n"
      ]
    },
    {
      "cell_type": "markdown",
      "metadata": {
        "id": "KeCbUWJsV9YW"
      },
      "source": [
        "\n",
        "1.7 Quien tiene un mayor número de reseñas, un super host o un no super host\n"
      ]
    },
    {
      "cell_type": "code",
      "execution_count": 11,
      "metadata": {
        "colab": {
          "base_uri": "https://localhost:8080/"
        },
        "id": "ZyKsmNj9WHSM",
        "outputId": "e794d3b0-2168-4a8e-9356-40d33fb94b6c"
      },
      "outputs": [
        {
          "name": "stdout",
          "output_type": "stream",
          "text": [
            "Tanto los super hosts como los no super hosts tienen el mismo número de reseñas.\n"
          ]
        }
      ],
      "source": [
        "superhost_reviews = df_filtered[df_filtered['host_is_superhost'] == 'SI']['number_of_reviews'].sum()\n",
        "non_superhost_reviews = df_filtered[df_filtered['host_is_superhost'] == 'NO']['number_of_reviews'].sum()\n",
        "\n",
        "if superhost_reviews > non_superhost_reviews:\n",
        "    print(\"Los super hosts tienen un mayor número de reseñas.\")\n",
        "elif superhost_reviews < non_superhost_reviews:\n",
        "    print(\"Los no super hosts tienen un mayor número de reseñas.\")\n",
        "else:\n",
        "    print(\"Tanto los super hosts como los no super hosts tienen el mismo número de reseñas.\")\n"
      ]
    },
    {
      "cell_type": "markdown",
      "metadata": {
        "id": "yqfSLD7cW3Xj"
      },
      "source": [
        "1.8 Sobre la estadística anterior, ¿quién tiene la puntuación media más alta?\n"
      ]
    },
    {
      "cell_type": "code",
      "execution_count": 12,
      "metadata": {
        "colab": {
          "base_uri": "https://localhost:8080/"
        },
        "id": "WQTV8NDfW6zh",
        "outputId": "f44c13d1-c5e1-4f3b-b42a-425fc432846a"
      },
      "outputs": [
        {
          "name": "stdout",
          "output_type": "stream",
          "text": [
            "nan\n",
            "nan\n",
            "Tanto los super hosts como los no super hosts tienen el mismo número de reseñas.\n"
          ]
        }
      ],
      "source": [
        "superhost_mean_rating = df_filtered[df_filtered['host_is_superhost'] == 'SI']['review_scores_rating'].mean()\n",
        "non_superhost_mean_rating = df_filtered[df_filtered['host_is_superhost'] == 'NO']['review_scores_rating'].mean()\n",
        "\n",
        "print(superhost_mean_rating)\n",
        "print(non_superhost_mean_rating)\n",
        "\n",
        "\n",
        "if superhost_reviews > non_superhost_reviews:\n",
        "    print(\"Los super hosts tienen un mayor número de reseñas.\")\n",
        "elif superhost_reviews < non_superhost_reviews:\n",
        "    print(\"Los no super hosts tienen un mayor número de reseñas.\")\n",
        "else:\n",
        "    print(\"Tanto los super hosts como los no super hosts tienen el mismo número de reseñas.\")"
      ]
    },
    {
      "cell_type": "markdown",
      "metadata": {
        "id": "FGwP14qRXMLu"
      },
      "source": [
        "1.9 Crea un vector categórico llamado “CATEGORÍA” en función de la puntuación de las reseñas\n"
      ]
    },
    {
      "cell_type": "code",
      "execution_count": 24,
      "metadata": {
        "colab": {
          "base_uri": "https://localhost:8080/"
        },
        "id": "SNW9YGgRXU3D",
        "outputId": "b33f4f1b-3dcb-455f-81a9-7f766b09f913"
      },
      "outputs": [
        {
          "name": "stdout",
          "output_type": "stream",
          "text": [
            "0       TOP\n",
            "1       TOP\n",
            "2       TOP\n",
            "3       TOP\n",
            "6       TOP\n",
            "       ... \n",
            "9317    TOP\n",
            "9318    TOP\n",
            "9319    TOP\n",
            "9320    TOP\n",
            "9321    TOP\n",
            "Name: CATEGORÍA, Length: 9005, dtype: category\n",
            "Categories (3, object): ['NO ACONSEJABLE' < 'ESTÁNDAR' < 'TOP']\n"
          ]
        },
        {
          "name": "stderr",
          "output_type": "stream",
          "text": [
            "/tmp/ipykernel_26799/505604872.py:1: SettingWithCopyWarning: \n",
            "A value is trying to be set on a copy of a slice from a DataFrame.\n",
            "Try using .loc[row_indexer,col_indexer] = value instead\n",
            "\n",
            "See the caveats in the documentation: https://pandas.pydata.org/pandas-docs/stable/user_guide/indexing.html#returning-a-view-versus-a-copy\n",
            "  df_filtered['CATEGORÍA'] = pd.cut(df_filtered['review_scores_rating'], bins=[0, 49, 75, 100],\n"
          ]
        }
      ],
      "source": [
        "df_filtered['CATEGORÍA'] = pd.cut(df_filtered['review_scores_rating'], bins=[0, 49, 75, 100],\n",
        "                                  labels=['NO ACONSEJABLE', 'ESTÁNDAR', 'TOP'])\n",
        "print(df_filtered['CATEGORÍA'])"
      ]
    },
    {
      "cell_type": "code",
      "execution_count": 25,
      "metadata": {},
      "outputs": [
        {
          "name": "stdout",
          "output_type": "stream",
          "text": [
            "(9005, 62)\n"
          ]
        }
      ],
      "source": [
        "# 12 Crea un vector categórico llamado “CATEGORÍA”, en función de que, si para la puntuación de las reseñas tiene de 0 a 49, sea \"NO ACONSEJABLE\"; de 50 a 75 sea “ESTÁNDAR”; y de 76 a 100 sea “TOP”.\n",
        "df[\"CATEGORÍA\"] = pd.cut(df[\"review_scores_rating\"], bins=[\n",
        "                          0, 49, 75, 100], labels=[\"NO ACONSEJABLE\", \"ESTÁNDAR\", \"TOP\"])\n",
        "df.head()\n",
        "print(df.shape)"
      ]
    },
    {
      "cell_type": "markdown",
      "metadata": {
        "id": "2tqc-gXBYoG2"
      },
      "source": [
        "\n",
        "1.10 Mostrar las frecuencias de la variable \"CATEGORÍA\"\n"
      ]
    },
    {
      "cell_type": "code",
      "execution_count": 26,
      "metadata": {
        "colab": {
          "base_uri": "https://localhost:8080/"
        },
        "id": "IJuA2NLuYp2X",
        "outputId": "e93d2cb8-08c9-46d9-9f75-25ac1eb62c3f"
      },
      "outputs": [
        {
          "name": "stdout",
          "output_type": "stream",
          "text": [
            "CATEGORÍA\n",
            "TOP               8717\n",
            "ESTÁNDAR           251\n",
            "NO ACONSEJABLE      37\n",
            "Name: count, dtype: int64\n"
          ]
        }
      ],
      "source": [
        "categoria_frequencies = df_filtered['CATEGORÍA'].value_counts()\n",
        "print(categoria_frequencies)\n"
      ]
    },
    {
      "cell_type": "markdown",
      "metadata": {
        "id": "2Fx8QvSqY7pA"
      },
      "source": [
        "1.11 Obtener el histograma del precio por día\n"
      ]
    },
    {
      "cell_type": "code",
      "execution_count": 27,
      "metadata": {
        "colab": {
          "base_uri": "https://localhost:8080/",
          "height": 473
        },
        "id": "EHdXvodRY_3a",
        "outputId": "989118b6-1cba-4d26-bf87-d624380bcd4a"
      },
      "outputs": [
        {
          "data": {
            "image/png": "[encoded data removed]",
            "text/plain": [
              "<Figure size 640x480 with 1 Axes>"
            ]
          },
          "metadata": {},
          "output_type": "display_data"
        }
      ],
      "source": [
        "import matplotlib.pyplot as plt\n",
        "\n",
        "df_filtered['daily_price'].hist(bins=20)\n",
        "plt.xlabel('Precio por Día')\n",
        "plt.ylabel('Frecuencia')\n",
        "plt.title('Histograma del Precio por Día')\n",
        "plt.show()"
      ]
    },
    {
      "cell_type": "code",
      "execution_count": 28,
      "metadata": {},
      "outputs": [
        {
          "name": "stderr",
          "output_type": "stream",
          "text": [
            "/tmp/ipykernel_26799/2625361219.py:4: UserWarning: \n",
            "\n",
            "`distplot` is a deprecated function and will be removed in seaborn v0.14.0.\n",
            "\n",
            "Please adapt your code to use either `displot` (a figure-level function with\n",
            "similar flexibility) or `histplot` (an axes-level function for histograms).\n",
            "\n",
            "For a guide to updating your code to use the new functions, please see\n",
            "https://gist.github.com/mwaskom/de44147ed2974457ad6372750bbe5751\n",
            "\n",
            "  sns.distplot(df_filtered[\"daily_price\"], bins=20, color=\"green\")\n"
          ]
        },
        {
          "data": {
            "image/png": "[encoded data removed]",
            "text/plain": [
              "<Figure size 640x480 with 1 Axes>"
            ]
          },
          "metadata": {},
          "output_type": "display_data"
        }
      ],
      "source": [
        "import seaborn as sns\n",
        "import matplotlib.pyplot as plt\n",
        "\n",
        "sns.distplot(df_filtered[\"daily_price\"], bins=20, color=\"green\")\n",
        "plt.title(\"Precio por día\")\n",
        "plt.xlabel(\"Precio\")\n",
        "plt.ylabel(\"Frecuencia\")\n",
        "plt.axvline(df_filtered[\"daily_price\"].mean(), color=\"red\")\n",
        "plt.axvline(df_filtered[\"daily_price\"].median(), color=\"blue\")\n",
        "plt.show()\n"
      ]
    }
  ],
  "metadata": {
    "colab": {
      "provenance": []
    },
    "kernelspec": {
      "display_name": "Python 3",
      "name": "python3"
    },
    "language_info": {
      "codemirror_mode": {
        "name": "ipython",
        "version": 3
      },
      "file_extension": ".py",
      "mimetype": "text/x-python",
      "name": "python",
      "nbconvert_exporter": "python",
      "pygments_lexer": "ipython3",
      "version": "3.10.8"
    }
  },
  "nbformat": 4,
  "nbformat_minor": 0
}
